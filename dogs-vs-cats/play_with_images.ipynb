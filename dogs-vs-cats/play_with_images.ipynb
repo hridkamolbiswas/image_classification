{
 "cells": [
  {
   "cell_type": "code",
   "execution_count": 1,
   "metadata": {},
   "outputs": [
    {
     "name": "stderr",
     "output_type": "stream",
     "text": [
      "Using TensorFlow backend.\n"
     ]
    }
   ],
   "source": [
    "from keras.preprocessing.image import ImageDataGenerator, load_img\n",
    "import pandas as pd\n",
    "import os\n",
    "import random\n",
    "import matplotlib.pyplot as plt\n",
    "import numpy as np\n",
    "import cv2"
   ]
  },
  {
   "cell_type": "code",
   "execution_count": 2,
   "metadata": {},
   "outputs": [],
   "source": [
    "IMAGE_WIDTH=128\n",
    "IMAGE_HEIGHT=128\n",
    "IMAGE_SIZE=(IMAGE_WIDTH, IMAGE_HEIGHT)\n",
    "IMAGE_CHANNELS=3"
   ]
  },
  {
   "cell_type": "code",
   "execution_count": 19,
   "metadata": {},
   "outputs": [
    {
     "name": "stdout",
     "output_type": "stream",
     "text": [
      "processed 0 images\n",
      "processed 1000 images\n",
      "processed 2000 images\n",
      "processed 3000 images\n",
      "processed 4000 images\n",
      "processed 5000 images\n",
      "processed 6000 images\n",
      "processed 7000 images\n",
      "processed 8000 images\n",
      "processed 9000 images\n",
      "processed 10000 images\n",
      "processed 11000 images\n",
      "processed 12000 images\n",
      "processed 13000 images\n",
      "processed 14000 images\n",
      "processed 15000 images\n",
      "processed 16000 images\n",
      "processed 17000 images\n",
      "processed 18000 images\n",
      "processed 19000 images\n",
      "processed 20000 images\n",
      "processed 21000 images\n",
      "processed 22000 images\n",
      "processed 23000 images\n",
      "processed 24000 images\n"
     ]
    },
    {
     "data": {
      "text/plain": [
       "<Figure size 432x288 with 0 Axes>"
      ]
     },
     "metadata": {},
     "output_type": "display_data"
    }
   ],
   "source": [
    "folder =\"train\"\n",
    "saved_file = \"training_labeled_data.npy\"\n",
    "plt.figure()\n",
    "\n",
    "# if os.path.isfile(saved_file):\n",
    "#     os.remove(saved_file)\n",
    "\n",
    "training_data = []\n",
    "for i, item in enumerate(os.listdir(folder)):\n",
    "    img =cv2.imread(f\"./{folder}/\"+item) #bgr format\n",
    "    img_name = item.split('.')[0]\n",
    "    img = cv2.cvtColor(img, cv2.COLOR_BGR2RGB)\n",
    "    img_resized = cv2.resize(img, IMAGE_SIZE)\n",
    "#     plt.figure()\n",
    "#     plt.imshow(img_resized)\n",
    "#     print(f\"{img_name} and resized shape {img_resized.shape}\")\n",
    "    training_data.append([img_name, img_resized])\n",
    "    if i%1000==0:\n",
    "        print(f\"processed {i} images\")\n",
    "\n",
    "np.save(saved_file, training_data)   "
   ]
  },
  {
   "cell_type": "markdown",
   "metadata": {},
   "source": [
    "# load data from saved npy"
   ]
  },
  {
   "cell_type": "code",
   "execution_count": 23,
   "metadata": {},
   "outputs": [
    {
     "name": "stdout",
     "output_type": "stream",
     "text": [
      "(25000, 2)\n"
     ]
    }
   ],
   "source": [
    "train_data =  np.load(\"training_labeled_data.npy\", allow_pickle=True)\n",
    "print(train_data.shape)"
   ]
  },
  {
   "cell_type": "code",
   "execution_count": 24,
   "metadata": {},
   "outputs": [
    {
     "name": "stdout",
     "output_type": "stream",
     "text": [
      " image name  = cat  and shape = (128, 128, 3)\n",
      " image name  = cat  and shape = (128, 128, 3)\n"
     ]
    }
   ],
   "source": [
    "for image in train_data[0:2]:\n",
    "    image_name = image[0]\n",
    "    image_data = image[1]\n",
    "    print(f\" image name  = {image_name}  and shape = {image_data.shape}\")"
   ]
  },
  {
   "cell_type": "code",
   "execution_count": null,
   "metadata": {},
   "outputs": [],
   "source": []
  },
  {
   "cell_type": "code",
   "execution_count": null,
   "metadata": {},
   "outputs": [],
   "source": []
  },
  {
   "cell_type": "code",
   "execution_count": null,
   "metadata": {},
   "outputs": [],
   "source": []
  },
  {
   "cell_type": "code",
   "execution_count": 21,
   "metadata": {},
   "outputs": [
    {
     "name": "stdout",
     "output_type": "stream",
     "text": [
      "processed 0 images\n",
      "processed 1000 images\n",
      "processed 2000 images\n",
      "processed 3000 images\n",
      "processed 4000 images\n",
      "processed 5000 images\n",
      "processed 6000 images\n",
      "processed 7000 images\n",
      "processed 8000 images\n",
      "processed 9000 images\n",
      "processed 10000 images\n",
      "processed 11000 images\n",
      "processed 12000 images\n"
     ]
    },
    {
     "data": {
      "text/plain": [
       "<Figure size 432x288 with 0 Axes>"
      ]
     },
     "metadata": {},
     "output_type": "display_data"
    }
   ],
   "source": [
    "folder =\"test\"\n",
    "saved_file = \"test_data.npy\"\n",
    "plt.figure()\n",
    "\n",
    "# if os.path.isfile(saved_file):\n",
    "#     os.remove(saved_file)\n",
    "\n",
    "test_data_array = []\n",
    "for i, item in enumerate(os.listdir(folder)):\n",
    "    img =cv2.imread(f\"./{folder}/\"+item) #bgr format\n",
    "    img_name = item.split('.')[0]\n",
    "    img = cv2.cvtColor(img, cv2.COLOR_BGR2RGB)\n",
    "    img_resized = cv2.resize(img, IMAGE_SIZE)\n",
    "#     plt.figure()\n",
    "#     plt.imshow(img_resized)\n",
    "#     print(f\"{img_name} and resized shape {img_resized.shape}\")\n",
    "    test_data_array.append([img_resized])\n",
    "    if i%1000==0:\n",
    "        print(f\"processed {i} images\")\n",
    "\n",
    "np.save(saved_file, test_data_array)  "
   ]
  },
  {
   "cell_type": "code",
   "execution_count": null,
   "metadata": {},
   "outputs": [],
   "source": []
  },
  {
   "cell_type": "code",
   "execution_count": null,
   "metadata": {},
   "outputs": [],
   "source": []
  },
  {
   "cell_type": "code",
   "execution_count": null,
   "metadata": {},
   "outputs": [],
   "source": []
  },
  {
   "cell_type": "code",
   "execution_count": null,
   "metadata": {},
   "outputs": [],
   "source": []
  },
  {
   "cell_type": "code",
   "execution_count": null,
   "metadata": {},
   "outputs": [],
   "source": []
  },
  {
   "cell_type": "code",
   "execution_count": null,
   "metadata": {},
   "outputs": [],
   "source": []
  },
  {
   "cell_type": "code",
   "execution_count": null,
   "metadata": {},
   "outputs": [],
   "source": []
  },
  {
   "cell_type": "code",
   "execution_count": 16,
   "metadata": {},
   "outputs": [],
   "source": [
    "train_data = np.load(\"training_labeled_data.npy\", allow_pickle=True)\n",
    "print(train_data.shape)"
   ]
  },
  {
   "cell_type": "code",
   "execution_count": 23,
   "metadata": {},
   "outputs": [
    {
     "name": "stdout",
     "output_type": "stream",
     "text": [
      "image name cat and shape = (374, 500, 3)\n",
      "image name cat and shape = (280, 300, 3)\n",
      "image name cat and shape = (499, 489, 3)\n",
      "image name cat and shape = (499, 403, 3)\n",
      "image name cat and shape = (149, 150, 3)\n"
     ]
    }
   ],
   "source": [
    "for item in training_data:\n",
    "    class_name = item[0]\n",
    "    img_mat = item[1]\n",
    "    print(f\"image name {class_name} and shape = {img_mat.shape}\")"
   ]
  },
  {
   "cell_type": "code",
   "execution_count": 8,
   "metadata": {},
   "outputs": [
    {
     "name": "stdout",
     "output_type": "stream",
     "text": [
      "cat.0.jpg\n",
      "cat.1.jpg\n",
      "cat.10.jpg\n",
      "cat.100.jpg\n",
      "cat.1000.jpg\n"
     ]
    }
   ],
   "source": [
    "for item in os.listdir(folder)[0:5]:\n",
    "    print(item)"
   ]
  },
  {
   "cell_type": "code",
   "execution_count": 17,
   "metadata": {},
   "outputs": [
    {
     "ename": "NameError",
     "evalue": "name 'Img' is not defined",
     "output_type": "error",
     "traceback": [
      "\u001b[1;31m---------------------------------------------------------------------------\u001b[0m",
      "\u001b[1;31mNameError\u001b[0m                                 Traceback (most recent call last)",
      "\u001b[1;32m<ipython-input-17-c00e29620a1e>\u001b[0m in \u001b[0;36m<module>\u001b[1;34m\u001b[0m\n\u001b[1;32m----> 1\u001b[1;33m \u001b[0mimg\u001b[0m\u001b[1;33m.\u001b[0m\u001b[0mresize\u001b[0m\u001b[1;33m(\u001b[0m\u001b[1;36m50\u001b[0m\u001b[1;33m,\u001b[0m\u001b[1;36m50\u001b[0m\u001b[1;33m,\u001b[0m \u001b[0mImg\u001b[0m\u001b[1;33m.\u001b[0m\u001b[0mANTIALIAS\u001b[0m\u001b[1;33m)\u001b[0m\u001b[1;33m\u001b[0m\u001b[1;33m\u001b[0m\u001b[0m\n\u001b[0m",
      "\u001b[1;31mNameError\u001b[0m: name 'Img' is not defined"
     ]
    }
   ],
   "source": [
    "img.resize(50,50, Img.ANTIALIAS)"
   ]
  },
  {
   "cell_type": "code",
   "execution_count": 10,
   "metadata": {},
   "outputs": [],
   "source": []
  },
  {
   "cell_type": "code",
   "execution_count": null,
   "metadata": {},
   "outputs": [],
   "source": []
  },
  {
   "cell_type": "code",
   "execution_count": null,
   "metadata": {},
   "outputs": [],
   "source": []
  }
 ],
 "metadata": {
  "kernelspec": {
   "display_name": "Python 3",
   "language": "python",
   "name": "python3"
  },
  "language_info": {
   "codemirror_mode": {
    "name": "ipython",
    "version": 3
   },
   "file_extension": ".py",
   "mimetype": "text/x-python",
   "name": "python",
   "nbconvert_exporter": "python",
   "pygments_lexer": "ipython3",
   "version": "3.7.7"
  }
 },
 "nbformat": 4,
 "nbformat_minor": 4
}
